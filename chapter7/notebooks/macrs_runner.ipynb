{
 "cells": [
  {
   "cell_type": "markdown",
   "metadata": {},
   "source": [
    "# MACRS Runner\n",
    "\n",
    "このノートブックは、`src/macrs/agent.py` に実装された MACRS クラスを用いてエージェントを実行します。"
   ]
  },
  {
   "cell_type": "code",
   "execution_count": null,
   "metadata": {},
   "outputs": [],
   "source": [
    "# エージェントモジュールのインポート\n",
    "from macrs.agent import MACRS\n",
    "\n",
    "# MACRSのエージェントを実行\n",
    "macrs = MACRS()\n",
    "result = await macrs.run_agent()"
   ]
  }
 ],
 "metadata": {
  "kernelspec": {
   "display_name": "chapter7",
   "language": "python",
   "name": "python3"
  },
  "language_info": {
   "codemirror_mode": {
    "name": "ipython",
    "version": 3
   },
   "file_extension": ".py",
   "mimetype": "text/x-python",
   "name": "python",
   "nbconvert_exporter": "python",
   "pygments_lexer": "ipython3",
   "version": "3.12.0"
  }
 },
 "nbformat": 4,
 "nbformat_minor": 2
}
