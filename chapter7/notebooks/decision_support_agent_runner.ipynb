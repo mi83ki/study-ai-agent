{
 "cells": [
  {
   "cell_type": "markdown",
   "metadata": {},
   "source": [
    "# Decision Support Agent Runner\n",
    "\n",
    "このノートブックは、`src/decision_support_agent/agent.py` に実装された DecisionSupportAgent クラスを用いてエージェントを実行します。"
   ]
  },
  {
   "cell_type": "code",
   "execution_count": null,
   "metadata": {},
   "outputs": [],
   "source": [
    "# エージェントモジュールのインポート\n",
    "from decision_support_agent.agent import DecisionSupportAgent\n",
    "\n",
    "# エージェントのインスタンス化\n",
    "agent = DecisionSupportAgent()\n",
    "\n",
    "# ユーザーリクエストの定義\n",
    "user_request = (\n",
    "    \"生成AIエージェントを活用して業務効率化を目指すビジネスパーソンに\"\n",
    "    \"興味をもってもらえるようにコンテンツのテーマを改善して\"\n",
    ")\n",
    "\n",
    "# エージェントの実行\n",
    "result = agent.run_agent(user_request)\n",
    "\n",
    "# 結果の表示\n",
    "print(\"最終実行結果:\")\n",
    "print(result)"
   ]
  }
 ],
 "metadata": {
  "kernelspec": {
   "display_name": "chapter7",
   "language": "python",
   "name": "python3"
  },
  "language_info": {
   "codemirror_mode": {
    "name": "ipython",
    "version": 3
   },
   "file_extension": ".py",
   "mimetype": "text/x-python",
   "name": "python",
   "nbconvert_exporter": "python",
   "pygments_lexer": "ipython3",
   "version": "3.12.0"
  }
 },
 "nbformat": 4,
 "nbformat_minor": 2
}
