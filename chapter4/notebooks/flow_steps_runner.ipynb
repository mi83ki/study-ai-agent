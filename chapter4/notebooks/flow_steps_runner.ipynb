{
 "cells": [
  {
   "cell_type": "code",
   "execution_count": null,
   "metadata": {},
   "outputs": [],
   "source": [
    "from src.agent import HelpDeskAgent\n",
    "from src.configs import Settings\n",
    "from src.tools.search_xyz_manual import search_xyz_manual\n",
    "from src.tools.search_xyz_qa import (\n",
    "    search_xyz_qa,\n",
    ")\n",
    "\n",
    "settings = Settings()\n"
   ]
  },
  {
   "cell_type": "code",
   "execution_count": 3,
   "metadata": {},
   "outputs": [],
   "source": [
    "agent = HelpDeskAgent(\n",
    "    settings=settings,\n",
    "    tools=[search_xyz_manual, search_xyz_qa],\n",
    ")"
   ]
  },
  {
   "cell_type": "code",
   "execution_count": 25,
   "metadata": {},
   "outputs": [],
   "source": [
    "question = \"\"\"\n",
    "お世話になっております。\n",
    "\n",
    "現在、XYZシステムの利用を検討しており、以下の2点についてご教示いただければと存じます。\n",
    "\n",
    "1. パスワードに利用可能な文字の制限について\n",
    "当該システムにてパスワードを設定する際、使用可能な文字の範囲（例：英数字、記号、文字数制限など）について詳しい情報をいただけますでしょうか。安全かつシステムでの認証エラーを防ぐため、具体的な仕様を確認したいと考えております。\n",
    "\n",
    "2. 最新リリースの取得方法について\n",
    "最新のアップデート情報をどのように確認・取得できるかについてもお教えいただけますと幸いです。\n",
    "\n",
    "お忙しいところ恐縮ですが、ご対応のほどよろしくお願い申し上げます。\n",
    "\"\"\"\n",
    "\n",
    "# question = \"\"\"\n",
    "# お世話になっております。\n",
    "\n",
    "# 現在、XYZシステムを利用を検討しており、以下の点についてご教示いただければと存じます。\n",
    "\n",
    "# 1. 特定のプロジェクトに対してのみ通知を制限する方法について\n",
    "\n",
    "# 2. パスワードに利用可能な文字の制限について\n",
    "# 当該システムにてパスワードを設定する際、使用可能な文字の範囲（例：英数字、記号、文字数制限など）について詳しい情報をいただけますでしょうか。安全かつシステムでの認証エラーを防ぐため、具体的な仕様を確認したいと考えております。\n",
    "\n",
    "# お忙しいところ恐縮ですが、ご対応のほどよろしくお願い申し上げます。\n",
    "\n",
    "# \"\"\""
   ]
  },
  {
   "cell_type": "markdown",
   "metadata": {},
   "source": [
    "## 計画ステップ"
   ]
  },
  {
   "cell_type": "code",
   "execution_count": 26,
   "metadata": {},
   "outputs": [],
   "source": [
    "input_data = {\"question\": question}\n",
    "\n",
    "plan_result = agent.create_plan(state=input_data)"
   ]
  },
  {
   "cell_type": "code",
   "execution_count": null,
   "metadata": {},
   "outputs": [],
   "source": [
    "plan_result[\"plan\"]"
   ]
  },
  {
   "cell_type": "markdown",
   "metadata": {},
   "source": [
    "## ツール選択ステップ"
   ]
  },
  {
   "cell_type": "code",
   "execution_count": 28,
   "metadata": {},
   "outputs": [],
   "source": [
    "input_data = {\n",
    "    \"question\": question,\n",
    "    \"plan\": plan_result[\"plan\"],\n",
    "    \"subtask\": plan_result[\"plan\"][0],\n",
    "    \"challenge_count\": 0,\n",
    "    \"is_completed\": False,\n",
    "}"
   ]
  },
  {
   "cell_type": "code",
   "execution_count": 29,
   "metadata": {},
   "outputs": [],
   "source": [
    "select_tool_result = agent.select_tools(state=input_data)"
   ]
  },
  {
   "cell_type": "code",
   "execution_count": null,
   "metadata": {},
   "outputs": [],
   "source": [
    "select_tool_result"
   ]
  },
  {
   "cell_type": "code",
   "execution_count": 31,
   "metadata": {},
   "outputs": [
    {
     "data": {
      "text/plain": [
       "{'role': 'assistant',\n",
       " 'tool_calls': [{'id': 'call_zM2g5tqao9s01G4uYwCtplrr',\n",
       "   'function': {'arguments': '{\"keywords\":\"パスワード 設定 文字制限\"}',\n",
       "    'name': 'search_xyz_manual'},\n",
       "   'type': 'function'}]}"
      ]
     },
     "execution_count": 31,
     "metadata": {},
     "output_type": "execute_result"
    }
   ],
   "source": [
    "select_tool_result[\"messages\"][-1]"
   ]
  },
  {
   "cell_type": "code",
   "execution_count": null,
   "metadata": {},
   "outputs": [],
   "source": [
    "select_tool_result[\"messages\"]"
   ]
  },
  {
   "cell_type": "markdown",
   "metadata": {},
   "source": [
    "## ツール実行ステップ"
   ]
  },
  {
   "cell_type": "code",
   "execution_count": 33,
   "metadata": {},
   "outputs": [],
   "source": [
    "input_data = {\n",
    "    \"question\": question,\n",
    "    \"plan\": plan_result[\"plan\"],\n",
    "    \"subtask\": plan_result[\"plan\"][0],\n",
    "    \"challenge_count\": 0,\n",
    "    \"messages\": select_tool_result[\"messages\"],\n",
    "    \"is_completed\": False,\n",
    "}"
   ]
  },
  {
   "cell_type": "code",
   "execution_count": null,
   "metadata": {},
   "outputs": [],
   "source": [
    "tool_results = agent.execute_tools(state=input_data)"
   ]
  },
  {
   "cell_type": "code",
   "execution_count": null,
   "metadata": {},
   "outputs": [],
   "source": [
    "tool_results[\"tool_results\"][0][0].results"
   ]
  },
  {
   "cell_type": "code",
   "execution_count": null,
   "metadata": {},
   "outputs": [],
   "source": [
    "tool_results"
   ]
  },
  {
   "cell_type": "markdown",
   "metadata": {},
   "source": [
    "## サブタスク回答"
   ]
  },
  {
   "cell_type": "code",
   "execution_count": 37,
   "metadata": {},
   "outputs": [],
   "source": [
    "input_data = {\n",
    "    \"question\": question,\n",
    "    \"plan\": plan_result[\"plan\"],\n",
    "    \"subtask\": plan_result[\"plan\"][0],\n",
    "    \"challenge_count\": 0,\n",
    "    \"messages\": tool_results[\"messages\"],\n",
    "    \"tool_results\": tool_results[\"tool_results\"],\n",
    "    \"is_completed\": False,\n",
    "}"
   ]
  },
  {
   "cell_type": "code",
   "execution_count": 38,
   "metadata": {},
   "outputs": [],
   "source": [
    "subtask_answer = agent.create_subtask_answer(state=input_data)"
   ]
  },
  {
   "cell_type": "code",
   "execution_count": null,
   "metadata": {},
   "outputs": [],
   "source": [
    "subtask_answer"
   ]
  },
  {
   "cell_type": "code",
   "execution_count": null,
   "metadata": {},
   "outputs": [],
   "source": [
    "print(subtask_answer[\"subtask_answer\"])"
   ]
  },
  {
   "cell_type": "markdown",
   "metadata": {},
   "source": [
    "## リフレクション"
   ]
  },
  {
   "cell_type": "code",
   "execution_count": 41,
   "metadata": {},
   "outputs": [],
   "source": [
    "input_data = {\n",
    "    \"question\": question,\n",
    "    \"plan\": plan_result[\"plan\"],\n",
    "    \"subtask\": plan_result[\"plan\"][0],\n",
    "    \"challenge_count\": 0,\n",
    "    \"messages\": subtask_answer[\"messages\"],\n",
    "    \"tool_results\": tool_results[\"tool_results\"],\n",
    "    \"is_completed\": False,\n",
    "    \"subtask_answer\": subtask_answer[\"subtask_answer\"],\n",
    "}"
   ]
  },
  {
   "cell_type": "code",
   "execution_count": 42,
   "metadata": {},
   "outputs": [],
   "source": [
    "reflection_result = agent.reflect_subtask(state=input_data)"
   ]
  },
  {
   "cell_type": "code",
   "execution_count": null,
   "metadata": {},
   "outputs": [],
   "source": [
    "reflection_result"
   ]
  },
  {
   "cell_type": "code",
   "execution_count": null,
   "metadata": {},
   "outputs": [],
   "source": [
    "# 最初に選択されたツールを確認\n",
    "print(reflection_result[\"messages\"][2][\"tool_calls\"][0][\"function\"][\"name\"])"
   ]
  },
  {
   "cell_type": "code",
   "execution_count": null,
   "metadata": {},
   "outputs": [],
   "source": [
    "# リフレクション結果の確認\n",
    "print(\"is_completed =\", reflection_result[\"reflection_results\"][0].is_completed)\n",
    "print(\"advice =\", reflection_result[\"reflection_results\"][0].advice)"
   ]
  }
 ],
 "metadata": {
  "kernelspec": {
   "display_name": ".venv",
   "language": "python",
   "name": "python3"
  },
  "language_info": {
   "codemirror_mode": {
    "name": "ipython",
    "version": 3
   },
   "file_extension": ".py",
   "mimetype": "text/x-python",
   "name": "python",
   "nbconvert_exporter": "python",
   "pygments_lexer": "ipython3",
   "version": "3.12.9"
  }
 },
 "nbformat": 4,
 "nbformat_minor": 2
}
